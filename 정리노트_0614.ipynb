{
 "cells": [
  {
   "cell_type": "markdown",
   "id": "96352d9e",
   "metadata": {},
   "source": [
    "# 코드만 간단히"
   ]
  },
  {
   "cell_type": "code",
   "execution_count": null,
   "id": "2f1c2f1f",
   "metadata": {},
   "outputs": [],
   "source": []
  },
  {
   "cell_type": "markdown",
   "id": "8bc03073",
   "metadata": {},
   "source": [
    "## 데이터 요약"
   ]
  },
  {
   "cell_type": "code",
   "execution_count": null,
   "id": "9f081a94",
   "metadata": {},
   "outputs": [],
   "source": [
    "# 해당 데이터의 타입 체크\n",
    "\n",
    "type() "
   ]
  },
  {
   "cell_type": "code",
   "execution_count": null,
   "id": "15b6ab15",
   "metadata": {},
   "outputs": [],
   "source": [
    "# 데이터 몇개만 간단히 보기. ( )에 숫자를 넣으면 그 갯수만큼 뽑힘\n",
    "\n",
    "df.head()  \n",
    "df.tail()\n",
    "df.sample()"
   ]
  },
  {
   "cell_type": "code",
   "execution_count": null,
   "id": "1a0f88de",
   "metadata": {},
   "outputs": [],
   "source": [
    "# 임의 변수를 고정(??)\n",
    "\n",
    "df.sample(3, random_state=42)"
   ]
  },
  {
   "cell_type": "code",
   "execution_count": null,
   "id": "34747263",
   "metadata": {},
   "outputs": [],
   "source": [
    "# 데이터 프레임 간단한 정보\n",
    "\n",
    "df.info()"
   ]
  },
  {
   "cell_type": "code",
   "execution_count": null,
   "id": "758d10fd",
   "metadata": {},
   "outputs": [],
   "source": [
    "# 데이터 프레임의 크기를 출력\n",
    "# (행, 열)\n",
    "\n",
    "df.shape"
   ]
  },
  {
   "cell_type": "code",
   "execution_count": null,
   "id": "bf3dfedd",
   "metadata": {},
   "outputs": [],
   "source": [
    "# 해당 데이터프레임의 컬럼별 타입\n",
    "\n",
    "df.dtypes"
   ]
  },
  {
   "cell_type": "code",
   "execution_count": null,
   "id": "78236841",
   "metadata": {},
   "outputs": [],
   "source": [
    "# 데이터프레임의 요약정보를 가져옵니다.\n",
    "# 수치형 데이터의 기술통계 값 : coount, mean, std, 4분위값, min, max\n",
    "\n",
    "df.describe()"
   ]
  },
  {
   "cell_type": "code",
   "execution_count": null,
   "id": "b10be9d3",
   "metadata": {},
   "outputs": [],
   "source": [
    "# 범주형 데이터의 기술통계 값을 봅니다. 수치형은 'number'\n",
    "\n",
    "df.describe(include=\"object\")"
   ]
  },
  {
   "cell_type": "code",
   "execution_count": null,
   "id": "9ac54849",
   "metadata": {},
   "outputs": [],
   "source": [
    "# 상관계수 보기 \n",
    "# 1 : 완전히 같다\n",
    "# 0 : 상관없음\n",
    "# -1 : 정반대\n",
    "\n",
    "df.corr()"
   ]
  },
  {
   "cell_type": "markdown",
   "id": "2aac6468",
   "metadata": {},
   "source": [
    "### Series의 빈도 수"
   ]
  },
  {
   "cell_type": "code",
   "execution_count": null,
   "id": "bce2053d",
   "metadata": {},
   "outputs": [],
   "source": [
    "# 특정 컬럼의 데이터 빈도 수\n",
    "\n",
    "df[\"컬럼명\"].value_counts()"
   ]
  },
  {
   "cell_type": "code",
   "execution_count": null,
   "id": "fc4b58f3",
   "metadata": {},
   "outputs": [],
   "source": [
    "# 데이터의 비율을 보고 싶을 때\n",
    "\n",
    "df[\"dataset\"].value_counts(normalize=True)*100"
   ]
  },
  {
   "cell_type": "markdown",
   "id": "113a7c2a",
   "metadata": {},
   "source": [
    "### Group by\n",
    "* 특정 컬럼의 데이터를 기준으로 묶어서 보고 싶을 때"
   ]
  },
  {
   "cell_type": "code",
   "execution_count": null,
   "id": "2d25fa36",
   "metadata": {},
   "outputs": [],
   "source": [
    "df.groupby(\"컬럼명\")"
   ]
  },
  {
   "cell_type": "code",
   "execution_count": null,
   "id": "0f73a17d",
   "metadata": {},
   "outputs": [],
   "source": [
    "df_grp = df.groupby(\"컬럼명\").describe()\n",
    "df_grp"
   ]
  },
  {
   "cell_type": "code",
   "execution_count": null,
   "id": "58821b3a",
   "metadata": {},
   "outputs": [],
   "source": [
    "df_grp['x']"
   ]
  },
  {
   "cell_type": "code",
   "execution_count": null,
   "id": "fea98347",
   "metadata": {},
   "outputs": [],
   "source": [
    "df_grp = df.groupby(\"컬럼명\")[['x', 'y']].describe()\n",
    "df_grp"
   ]
  },
  {
   "cell_type": "code",
   "execution_count": null,
   "id": "7de4c71b",
   "metadata": {},
   "outputs": [],
   "source": [
    "# T == transpose()  :  행과 열을 바꾸기\n",
    "#df_grp['x'].transpose()\n",
    "\n",
    "df_grp['x'].T"
   ]
  },
  {
   "cell_type": "code",
   "execution_count": null,
   "id": "e053d01d",
   "metadata": {},
   "outputs": [],
   "source": [
    "corr = df.groupby(\"컬럼명\").corr()\n",
    "corr"
   ]
  },
  {
   "cell_type": "code",
   "execution_count": null,
   "id": "c4c09e3b",
   "metadata": {},
   "outputs": [],
   "source": [
    "corr.loc[\"II\"]"
   ]
  },
  {
   "cell_type": "code",
   "execution_count": null,
   "id": "2f0817da",
   "metadata": {},
   "outputs": [],
   "source": [
    "# \"컬럼명\" 별로 그룹화 하여 y 값에 대한 평균 구하기\n",
    "df.groupby(\"컬럼명\")[\"y\"].mean()"
   ]
  },
  {
   "cell_type": "code",
   "execution_count": null,
   "id": "524c1e64",
   "metadata": {},
   "outputs": [],
   "source": [
    "# \"컬럼명\" 별로 그룹화하여 y값에 대한 표준편차만 볼때\n",
    "df.groupby(\"컬럼명\")[\"y\"].std()"
   ]
  },
  {
   "cell_type": "code",
   "execution_count": null,
   "id": "0094cadf",
   "metadata": {},
   "outputs": [],
   "source": [
    "# 평균과 표준편차 같이 보고싶을 때\n",
    "df.groupby(\"컬럼명\")[\"y\"].agg(['mean','std'])"
   ]
  },
  {
   "cell_type": "code",
   "execution_count": null,
   "id": "a7fb595d",
   "metadata": {},
   "outputs": [],
   "source": [
    "df.groupby(\"dataset\").agg({'x':'mean', 'y':[\"mean\", \"std\"]})\n",
    "\n",
    "# 보고싶은 열의 계산값을 딕셔너리로 묶어서 넣으면 볼 수 있다.\n",
    "# 한 컬럼의 여러 계산값을 보고싶으면 리스트로 묶어서"
   ]
  },
  {
   "cell_type": "code",
   "execution_count": null,
   "id": "0f6fa531",
   "metadata": {},
   "outputs": [],
   "source": []
  },
  {
   "cell_type": "markdown",
   "id": "138fb22c",
   "metadata": {},
   "source": [
    "## 데이터프레임 인덱싱"
   ]
  },
  {
   "cell_type": "markdown",
   "id": "25299efb",
   "metadata": {},
   "source": [
    "### 컬럼으로 가져오기"
   ]
  },
  {
   "cell_type": "code",
   "execution_count": null,
   "id": "b8d41155",
   "metadata": {},
   "outputs": [],
   "source": [
    "# 컬럼명으로 데이터 가져오기\n",
    "\n",
    "df['컬럼명1'] \n",
    "df[[\"컬럼명1\", \"컬럼명2\"]]"
   ]
  },
  {
   "cell_type": "code",
   "execution_count": null,
   "id": "fd43463a",
   "metadata": {},
   "outputs": [],
   "source": [
    "# 인덱스 번호로 데이터 가져오기\n",
    "# loc == locate \n",
    "\n",
    "df.loc[0]\n",
    "df.loc[4]"
   ]
  },
  {
   "cell_type": "markdown",
   "id": "ab463656",
   "metadata": {},
   "source": [
    "### 인덱스로 가져오기"
   ]
  },
  {
   "cell_type": "code",
   "execution_count": null,
   "id": "6b39eadf",
   "metadata": {},
   "outputs": [],
   "source": [
    "# 행을 가져올 때, 순서도 임의로 정할 수 있음\n",
    "\n",
    "df.loc[[0, 1, 2]]"
   ]
  },
  {
   "cell_type": "code",
   "execution_count": null,
   "id": "b27f8d86",
   "metadata": {},
   "outputs": [],
   "source": [
    "# 행, 열 정해서 가져올 수 있음\n",
    "# loc[행, 열]\n",
    "# 행 : index  /  열 : columns\n",
    "\n",
    "df.loc[0, \"컬럼명1\"]\n",
    "df.loc[[0,1], \"컬럼명1\"]\n",
    "df.loc[[0, 1], [\"컬럼명1\", \"컬럼명2\"]]"
   ]
  },
  {
   "cell_type": "markdown",
   "id": "4330da6a",
   "metadata": {},
   "source": [
    "### 컬럼 추가 / 삭제"
   ]
  },
  {
   "cell_type": "code",
   "execution_count": null,
   "id": "9048ef00",
   "metadata": {},
   "outputs": [],
   "source": [
    "# 새로운 컬럼 추가\n",
    "# 데이터프레임보다 데이터의 길이가 길면 안됨\n",
    "\n",
    "df[\"새_컬럼명\"] = [\"데이터1\", \"데이터2\",\"데이터3\"...]"
   ]
  },
  {
   "cell_type": "code",
   "execution_count": null,
   "id": "dd629d48",
   "metadata": {},
   "outputs": [],
   "source": [
    "# 데이터프레임에서 컬럼, 로우(행) 삭제   axis =1 : 컬럼 / 0 : 로우(행) \n",
    "# df에 컬럼을 빼고 덮어 씀\n",
    "\n",
    "df = df.drop(['컬럼명1',\"컬럼명2\"], axis=1)"
   ]
  },
  {
   "cell_type": "markdown",
   "id": "dc27e7b0",
   "metadata": {},
   "source": [
    "### 특정 데이터 값 찾는 법"
   ]
  },
  {
   "cell_type": "code",
   "execution_count": null,
   "id": "a35c641d",
   "metadata": {},
   "outputs": [],
   "source": [
    "# 컬럼에서 특정 글자가 포함된 데이터 가져오기\n",
    "# boolean indexing\n",
    "\n",
    "df[\"컬럼명\"].str.contains(\"글자\")\n",
    "df[df[\"컬럼명\"].str.contains(\"글자\")]"
   ]
  },
  {
   "cell_type": "code",
   "execution_count": null,
   "id": "ffa59457",
   "metadata": {},
   "outputs": [],
   "source": [
    "# 파이썬은 대소문자를 구분함\n",
    "# 데이터를 소문자로 바꾸거나, 대문자로 바꿔서 인덱싱을 해야함\n",
    "# 소문자로 바꾸면 새로운 컬럼을 만들어 추가함(row데이터에 덮어쓰지 말 것.)\n",
    "\n",
    "df[\"컬럼명\"].str.lower()\n",
    "df[\"컬럼명\"].str.upper()\n",
    "df[\"컬럼명_소문자\"] = df[\"컬럼명\"].str.lower()"
   ]
  },
  {
   "cell_type": "code",
   "execution_count": null,
   "id": "02edac57",
   "metadata": {},
   "outputs": [],
   "source": [
    "# 판다스 정규표현식에서  and => &\n",
    "#                        or => |     (shift + \\)\n",
    "\n",
    "# 예시) df[\"약품명_소문자\"].str.contains(\"vita|비타\")"
   ]
  },
  {
   "cell_type": "code",
   "execution_count": null,
   "id": "4cccc691",
   "metadata": {},
   "outputs": [],
   "source": [
    "# 조건을 넣어 찾을 수 있다\n",
    "\n",
    "df[df[\"컬럼명\"] > 3500]"
   ]
  },
  {
   "cell_type": "code",
   "execution_count": null,
   "id": "04841b37",
   "metadata": {},
   "outputs": [],
   "source": []
  },
  {
   "cell_type": "markdown",
   "id": "80fcfb21",
   "metadata": {},
   "source": [
    "### 정렬하기\n",
    "    * .sort_values()\n",
    "    * .sort_index()"
   ]
  },
  {
   "cell_type": "code",
   "execution_count": null,
   "id": "2a8f9ba2",
   "metadata": {},
   "outputs": [],
   "source": [
    "# 특정 컬럼을 기준으로 정렬  ascending = True : 오름차순 / False : 내림차순\n",
    "\n",
    "df.sort_values(\"컬럼명\", ascending=False)\n",
    "df.sort_values([\"컬럼명1\", \"컬럼명2\"], ascending=[True, False])"
   ]
  },
  {
   "cell_type": "markdown",
   "id": "97ffd646",
   "metadata": {},
   "source": [
    "## 시각화 (Seaborn)"
   ]
  },
  {
   "cell_type": "markdown",
   "id": "e6d1dc7f",
   "metadata": {},
   "source": [
    "### 1. counterplot\n",
    "    * 빈도 수 체크\n",
    "    * 변수를 x 에 주면 세로로, y 에 주면 가로로 뻗는다."
   ]
  },
  {
   "cell_type": "code",
   "execution_count": 21,
   "id": "5bdc8fc5",
   "metadata": {},
   "outputs": [
    {
     "data": {
      "text/html": [
       "<div>\n",
       "<style scoped>\n",
       "    .dataframe tbody tr th:only-of-type {\n",
       "        vertical-align: middle;\n",
       "    }\n",
       "\n",
       "    .dataframe tbody tr th {\n",
       "        vertical-align: top;\n",
       "    }\n",
       "\n",
       "    .dataframe thead th {\n",
       "        text-align: right;\n",
       "    }\n",
       "</style>\n",
       "<table border=\"1\" class=\"dataframe\">\n",
       "  <thead>\n",
       "    <tr style=\"text-align: right;\">\n",
       "      <th></th>\n",
       "      <th>dataset</th>\n",
       "      <th>x</th>\n",
       "      <th>y</th>\n",
       "    </tr>\n",
       "  </thead>\n",
       "  <tbody>\n",
       "    <tr>\n",
       "      <th>39</th>\n",
       "      <td>IV</td>\n",
       "      <td>8.0</td>\n",
       "      <td>5.25</td>\n",
       "    </tr>\n",
       "    <tr>\n",
       "      <th>16</th>\n",
       "      <td>II</td>\n",
       "      <td>14.0</td>\n",
       "      <td>8.10</td>\n",
       "    </tr>\n",
       "    <tr>\n",
       "      <th>0</th>\n",
       "      <td>I</td>\n",
       "      <td>10.0</td>\n",
       "      <td>8.04</td>\n",
       "    </tr>\n",
       "    <tr>\n",
       "      <th>11</th>\n",
       "      <td>II</td>\n",
       "      <td>10.0</td>\n",
       "      <td>9.14</td>\n",
       "    </tr>\n",
       "  </tbody>\n",
       "</table>\n",
       "</div>"
      ],
      "text/plain": [
       "   dataset     x     y\n",
       "39      IV   8.0  5.25\n",
       "16      II  14.0  8.10\n",
       "0        I  10.0  8.04\n",
       "11      II  10.0  9.14"
      ]
     },
     "execution_count": 21,
     "metadata": {},
     "output_type": "execute_result"
    }
   ],
   "source": [
    "import pandas as pd\n",
    "import seaborn as sns\n",
    "import numpy as np\n",
    "df = sns.load_dataset(\"anscombe\")\n",
    "df.sample(4)"
   ]
  },
  {
   "cell_type": "code",
   "execution_count": 22,
   "id": "38ea656b",
   "metadata": {},
   "outputs": [
    {
     "data": {
      "text/plain": [
       "<AxesSubplot:xlabel='dataset', ylabel='count'>"
      ]
     },
     "execution_count": 22,
     "metadata": {},
     "output_type": "execute_result"
    },
    {
     "data": {
      "image/png": "[encoded data removed]",
      "text/plain": [
       "<Figure size 432x288 with 1 Axes>"
      ]
     },
     "metadata": {
      "needs_background": "light"
     },
     "output_type": "display_data"
    }
   ],
   "source": [
    "# x 나 y 하나만 지정해주면 된다. \n",
    "\n",
    "sns.countplot(data=df, x=\"dataset\")"
   ]
  },
  {
   "cell_type": "code",
   "execution_count": 23,
   "id": "f9694969",
   "metadata": {},
   "outputs": [
    {
     "data": {
      "text/plain": [
       "<AxesSubplot:xlabel='count', ylabel='dataset'>"
      ]
     },
     "execution_count": 23,
     "metadata": {},
     "output_type": "execute_result"
    },
    {
     "data": {
      "image/png": "[encoded data removed]",
      "text/plain": [
       "<Figure size 432x288 with 1 Axes>"
      ]
     },
     "metadata": {
      "needs_background": "light"
     },
     "output_type": "display_data"
    }
   ],
   "source": [
    "sns.countplot(data=df, y=\"dataset\")"
   ]
  },
  {
   "cell_type": "markdown",
   "id": "8487e141",
   "metadata": {},
   "source": [
    "### 2. barplot\n",
    "* 기본 세팅 : 평균 값 + 신뢰 구간(ci)"
   ]
  },
  {
   "cell_type": "code",
   "execution_count": 24,
   "id": "3d1e794a",
   "metadata": {},
   "outputs": [
    {
     "data": {
      "text/plain": [
       "<AxesSubplot:xlabel='dataset', ylabel='x'>"
      ]
     },
     "execution_count": 24,
     "metadata": {},
     "output_type": "execute_result"
    },
    {
     "data": {
      "image/png": "[encoded data removed]",
      "text/plain": [
       "<Figure size 432x288 with 1 Axes>"
      ]
     },
     "metadata": {
      "needs_background": "light"
     },
     "output_type": "display_data"
    }
   ],
   "source": [
    "sns.barplot(data=df, x=\"dataset\", y=\"x\")"
   ]
  },
  {
   "cell_type": "code",
   "execution_count": 25,
   "id": "b4e803ec",
   "metadata": {},
   "outputs": [
    {
     "data": {
      "text/plain": [
       "<AxesSubplot:xlabel='dataset', ylabel='y'>"
      ]
     },
     "execution_count": 25,
     "metadata": {},
     "output_type": "execute_result"
    },
    {
     "data": {
      "image/png": "[encoded data removed]",
      "text/plain": [
       "<Figure size 432x288 with 1 Axes>"
      ]
     },
     "metadata": {
      "needs_background": "light"
     },
     "output_type": "display_data"
    }
   ],
   "source": [
    "# 기본 값 : 평균만 ( 큰 기둥 )\n",
    "sns.barplot(data=df, x=\"dataset\", y=\"y\", ci=None, estimator=np.mean )"
   ]
  },
  {
   "cell_type": "code",
   "execution_count": null,
   "id": "67e822f7",
   "metadata": {},
   "outputs": [],
   "source": []
  },
  {
   "cell_type": "markdown",
   "id": "a3537343",
   "metadata": {},
   "source": [
    "### 3. boxplot"
   ]
  },
  {
   "cell_type": "code",
   "execution_count": 26,
   "id": "9c7ae9b1",
   "metadata": {},
   "outputs": [
    {
     "data": {
      "text/plain": [
       "<AxesSubplot:xlabel='dataset', ylabel='x'>"
      ]
     },
     "execution_count": 26,
     "metadata": {},
     "output_type": "execute_result"
    },
    {
     "data": {
      "image/png": "[encoded data removed]",
      "text/plain": [
       "<Figure size 432x288 with 1 Axes>"
      ]
     },
     "metadata": {
      "needs_background": "light"
     },
     "output_type": "display_data"
    }
   ],
   "source": [
    "sns.boxplot(data=df, x=\"dataset\", y=\"x\")"
   ]
  },
  {
   "cell_type": "code",
   "execution_count": 27,
   "id": "5ef5b8d9",
   "metadata": {},
   "outputs": [
    {
     "data": {
      "text/plain": [
       "<AxesSubplot:xlabel='dataset', ylabel='y'>"
      ]
     },
     "execution_count": 27,
     "metadata": {},
     "output_type": "execute_result"
    },
    {
     "data": {
      "image/png": "[encoded data removed]",
      "text/plain": [
       "<Figure size 432x288 with 1 Axes>"
      ]
     },
     "metadata": {
      "needs_background": "light"
     },
     "output_type": "display_data"
    }
   ],
   "source": [
    "sns.boxplot(data=df, x=\"dataset\", y=\"y\")"
   ]
  },
  {
   "cell_type": "markdown",
   "id": "74625bb3",
   "metadata": {},
   "source": [
    "### 4. violinplot\n",
    "* boxplot 보다 데이터의 형태를 알기 용이하다"
   ]
  },
  {
   "cell_type": "code",
   "execution_count": 28,
   "id": "6646aa17",
   "metadata": {},
   "outputs": [
    {
     "data": {
      "text/plain": [
       "<AxesSubplot:xlabel='dataset', ylabel='x'>"
      ]
     },
     "execution_count": 28,
     "metadata": {},
     "output_type": "execute_result"
    },
    {
     "data": {
      "image/png": "[encoded data removed]",
      "text/plain": [
       "<Figure size 432x288 with 1 Axes>"
      ]
     },
     "metadata": {
      "needs_background": "light"
     },
     "output_type": "display_data"
    }
   ],
   "source": [
    "sns.violinplot(data=df, x=\"dataset\", y=\"x\")"
   ]
  },
  {
   "cell_type": "markdown",
   "id": "8e2699e7",
   "metadata": {},
   "source": [
    "### 5. scatterplot"
   ]
  },
  {
   "cell_type": "code",
   "execution_count": 29,
   "id": "e2158812",
   "metadata": {},
   "outputs": [
    {
     "data": {
      "text/plain": [
       "<AxesSubplot:xlabel='x', ylabel='y'>"
      ]
     },
     "execution_count": 29,
     "metadata": {},
     "output_type": "execute_result"
    },
    {
     "data": {
      "image/png": "[encoded data removed]",
      "text/plain": [
       "<Figure size 432x288 with 1 Axes>"
      ]
     },
     "metadata": {
      "needs_background": "light"
     },
     "output_type": "display_data"
    }
   ],
   "source": [
    "# hue :색깔 기준\n",
    "sns.scatterplot(data=df, x=\"x\", y=\"y\", hue=\"dataset\")"
   ]
  },
  {
   "cell_type": "markdown",
   "id": "3087943f",
   "metadata": {},
   "source": [
    "### 6. regplot"
   ]
  },
  {
   "cell_type": "code",
   "execution_count": 30,
   "id": "1e74a4b7",
   "metadata": {},
   "outputs": [
    {
     "data": {
      "text/plain": [
       "<AxesSubplot:xlabel='x', ylabel='y'>"
      ]
     },
     "execution_count": 30,
     "metadata": {},
     "output_type": "execute_result"
    },
    {
     "data": {
      "image/png": "[encoded data removed]",
      "text/plain": [
       "<Figure size 432x288 with 1 Axes>"
      ]
     },
     "metadata": {
      "needs_background": "light"
     },
     "output_type": "display_data"
    }
   ],
   "source": [
    "sns.regplot(data=df, x=\"x\", y=\"y\")"
   ]
  },
  {
   "cell_type": "markdown",
   "id": "cd0c0a8f",
   "metadata": {},
   "source": [
    "### 7. lmplot"
   ]
  },
  {
   "cell_type": "code",
   "execution_count": 31,
   "id": "d6e4fe24",
   "metadata": {},
   "outputs": [
    {
     "data": {
      "text/plain": [
       "<seaborn.axisgrid.FacetGrid at 0x269878c5e50>"
      ]
     },
     "execution_count": 31,
     "metadata": {},
     "output_type": "execute_result"
    },
    {
     "data": {
      "image/png": "[encoded data removed]",
      "text/plain": [
       "<Figure size 405.75x360 with 1 Axes>"
      ]
     },
     "metadata": {
      "needs_background": "light"
     },
     "output_type": "display_data"
    }
   ],
   "source": [
    "sns.lmplot(data=df, x=\"x\", y=\"y\", hue=\"dataset\")"
   ]
  },
  {
   "cell_type": "code",
   "execution_count": 32,
   "id": "36c105dd",
   "metadata": {},
   "outputs": [
    {
     "data": {
      "text/plain": [
       "<seaborn.axisgrid.FacetGrid at 0x269878de400>"
      ]
     },
     "execution_count": 32,
     "metadata": {},
     "output_type": "execute_result"
    },
    {
     "data": {
      "image/png": "[encoded data removed]",
      "text/plain": [
       "<Figure size 405.75x360 with 1 Axes>"
      ]
     },
     "metadata": {
      "needs_background": "light"
     },
     "output_type": "display_data"
    }
   ],
   "source": [
    "# 신뢰구간(ci)가 있으면 돌아가는 시간이 비약적으로 늘어니니까 될 수 있으면 빼고 하는게 좋다.\n",
    "\n",
    "sns.lmplot(data=df, x=\"x\", y=\"y\", hue=\"dataset\", ci=None)"
   ]
  },
  {
   "cell_type": "code",
   "execution_count": 33,
   "id": "42cc276e",
   "metadata": {},
   "outputs": [
    {
     "data": {
      "text/plain": [
       "<seaborn.axisgrid.FacetGrid at 0x269879aa8b0>"
      ]
     },
     "execution_count": 33,
     "metadata": {},
     "output_type": "execute_result"
    },
    {
     "data": {
      "image/png": "[encoded data removed]",
      "text/plain": [
       "<Figure size 1440x360 with 4 Axes>"
      ]
     },
     "metadata": {
      "needs_background": "light"
     },
     "output_type": "display_data"
    }
   ],
   "source": [
    "# 플롯 나눠보기\n",
    "\n",
    "sns.lmplot(data=df, x=\"x\", y=\"y\", hue=\"dataset\",\n",
    "           ci=None, col=\"dataset\")"
   ]
  },
  {
   "cell_type": "code",
   "execution_count": 34,
   "id": "f0d6c1bf",
   "metadata": {},
   "outputs": [
    {
     "data": {
      "text/plain": [
       "<seaborn.axisgrid.FacetGrid at 0x26987870700>"
      ]
     },
     "execution_count": 34,
     "metadata": {},
     "output_type": "execute_result"
    },
    {
     "data": {
      "image/png": "[encoded data removed]",
      "text/plain": [
       "<Figure size 720x720 with 4 Axes>"
      ]
     },
     "metadata": {
      "needs_background": "light"
     },
     "output_type": "display_data"
    }
   ],
   "source": [
    "# 보기 쉽게 정리\n",
    "\n",
    "sns.lmplot(data=df, x=\"x\", y=\"y\", hue=\"dataset\",\n",
    "           ci=None, col=\"dataset\", col_wrap=2)"
   ]
  },
  {
   "cell_type": "markdown",
   "id": "53d83d24",
   "metadata": {},
   "source": [
    "## 파일로 저장하기 / 불러오기"
   ]
  },
  {
   "cell_type": "code",
   "execution_count": null,
   "id": "6d055a1a",
   "metadata": {},
   "outputs": [],
   "source": [
    "# to_csv 를 통해 csv 파일로 저장\n",
    "# index = False  : 판다스에서 쓰는 인덱스를 저장하지 않음\n",
    "\n",
    "df.to_csv(\"파일명.csv\", index = False)"
   ]
  },
  {
   "cell_type": "code",
   "execution_count": null,
   "id": "451d2495",
   "metadata": {},
   "outputs": [],
   "source": [
    "# 특정 경로로 저장하는 법\n",
    "\n",
    "df.to_csv(\"경로명1/경로명2/파일명.csv\", index = False)"
   ]
  },
  {
   "cell_type": "code",
   "execution_count": null,
   "id": "b64186b3",
   "metadata": {},
   "outputs": [],
   "source": [
    "# 저장된 csv 파일을 읽어오기\n",
    "\n",
    "pd.read_csv(\"경로명1/경로명2/파일명.csv\")"
   ]
  },
  {
   "cell_type": "code",
   "execution_count": null,
   "id": "c9c1b67a",
   "metadata": {},
   "outputs": [],
   "source": []
  },
  {
   "cell_type": "code",
   "execution_count": null,
   "id": "50554fe8",
   "metadata": {},
   "outputs": [],
   "source": []
  }
 ],
 "metadata": {
  "kernelspec": {
   "display_name": "Python 3",
   "language": "python",
   "name": "python3"
  },
  "language_info": {
   "codemirror_mode": {
    "name": "ipython",
    "version": 3
   },
   "file_extension": ".py",
   "mimetype": "text/x-python",
   "name": "python",
   "nbconvert_exporter": "python",
   "pygments_lexer": "ipython3",
   "version": "3.8.8"
  },
  "toc": {
   "base_numbering": 1,
   "nav_menu": {},
   "number_sections": false,
   "sideBar": true,
   "skip_h1_title": false,
   "title_cell": "Table of Contents",
   "title_sidebar": "Contents",
   "toc_cell": false,
   "toc_position": {},
   "toc_section_display": true,
   "toc_window_display": true
  }
 },
 "nbformat": 4,
 "nbformat_minor": 5
}
