{
 "cells": [
  {
   "cell_type": "code",
   "execution_count": 126,
   "id": "ec9a85c2",
   "metadata": {},
   "outputs": [],
   "source": [
    "# 참고주소 : https://blog.naver.com/9145456s/222139975851"
   ]
  },
  {
   "cell_type": "code",
   "execution_count": 1,
   "id": "3e71cce9",
   "metadata": {},
   "outputs": [],
   "source": [
    "# library\n",
    "import pandas as pd\n",
    "import numpy as np\n",
    "import requests\n",
    "from bs4 import BeautifulSoup as bs"
   ]
  },
  {
   "cell_type": "markdown",
   "id": "249c3e45",
   "metadata": {},
   "source": [
    "# 시도 가져오기"
   ]
  },
  {
   "cell_type": "code",
   "execution_count": 45,
   "id": "c85f8bc3",
   "metadata": {},
   "outputs": [
    {
     "data": {
      "text/plain": [
       "'https://www.starbucks.co.kr/store/getSidoList.do'"
      ]
     },
     "execution_count": 45,
     "metadata": {},
     "output_type": "execute_result"
    }
   ],
   "source": [
    "# 시도 url\n",
    "url = \"https://www.starbucks.co.kr/store/getSidoList.do\"\n",
    "url"
   ]
  },
  {
   "cell_type": "code",
   "execution_count": 36,
   "id": "6dea9210",
   "metadata": {},
   "outputs": [
    {
     "data": {
      "text/plain": [
       "{'User-Agent': 'Mozilla/5.0 (Windows NT 10.0; Win64; x64) AppleWebKit/537.36 (KHTML, like Gecko) Chrome/91.0.4472.114 Safari/537.36'}"
      ]
     },
     "execution_count": 36,
     "metadata": {},
     "output_type": "execute_result"
    }
   ],
   "source": [
    "headers = {\"User-Agent\": \"Mozilla/5.0 (Windows NT 10.0; Win64; x64) AppleWebKit/537.36 (KHTML, like Gecko) Chrome/91.0.4472.114 Safari/537.36\"}\n",
    "headers"
   ]
  },
  {
   "cell_type": "code",
   "execution_count": 37,
   "id": "827ceb81",
   "metadata": {},
   "outputs": [
    {
     "data": {
      "text/plain": [
       "<Response [200]>"
      ]
     },
     "execution_count": 37,
     "metadata": {},
     "output_type": "execute_result"
    }
   ],
   "source": [
    "# post로 받아오기\n",
    "response = requests.post(url)\n",
    "response"
   ]
  },
  {
   "cell_type": "code",
   "execution_count": 38,
   "id": "b11c1b73",
   "metadata": {},
   "outputs": [],
   "source": [
    "sido_list = response.json()"
   ]
  },
  {
   "cell_type": "code",
   "execution_count": 47,
   "id": "3eed9ca1",
   "metadata": {},
   "outputs": [
    {
     "name": "stdout",
     "output_type": "stream",
     "text": [
      "{'01': '서울', '08': '경기', '02': '광주', '03': '대구', '04': '대전', '05': '부산', '06': '울산', '07': '인천', '09': '강원', '10': '경남', '11': '경북', '12': '전남', '13': '전북', '14': '충남', '15': '충북', '16': '제주', '17': '세종'}\n"
     ]
    }
   ],
   "source": [
    "sidoList = {}\n",
    "\n",
    "for sido in sido_list['list']:\n",
    "#     print(f'{sido[\"sido_cd\"]} : {sido['sido_nm']}')\n",
    "    # 시도코드에 맞는 시도 이름 가져오기\n",
    "    sidoList[sido['sido_cd']] = sido['sido_nm']\n",
    "print(sidoList)"
   ]
  },
  {
   "cell_type": "markdown",
   "id": "1e6af127",
   "metadata": {},
   "source": [
    "# 구군코드 가져오기"
   ]
  },
  {
   "cell_type": "code",
   "execution_count": 50,
   "id": "3cf1c6e1",
   "metadata": {
    "scrolled": true
   },
   "outputs": [
    {
     "name": "stdout",
     "output_type": "stream",
     "text": [
      "구군 코드를 확인할 시도 코드를 입력하세요: 01\n"
     ]
    }
   ],
   "source": [
    "# 구군코드 크롤링\n",
    "sido_cd = input(\"구군 코드를 확인할 시도 코드를 입력하세요: \")"
   ]
  },
  {
   "cell_type": "code",
   "execution_count": 46,
   "id": "ec1e5e18",
   "metadata": {},
   "outputs": [
    {
     "data": {
      "text/plain": [
       "'https://www.starbucks.co.kr/store/getGugunList.do'"
      ]
     },
     "execution_count": 46,
     "metadata": {},
     "output_type": "execute_result"
    }
   ],
   "source": [
    "url2 = \"https://www.starbucks.co.kr/store/getGugunList.do\"\n",
    "url2"
   ]
  },
  {
   "cell_type": "code",
   "execution_count": 56,
   "id": "44219f1c",
   "metadata": {},
   "outputs": [
    {
     "data": {
      "text/plain": [
       "<Response [200]>"
      ]
     },
     "execution_count": 56,
     "metadata": {},
     "output_type": "execute_result"
    }
   ],
   "source": [
    "response2 = requests.post(url2, data ={'sido_cd' : sido_cd})\n",
    "response2"
   ]
  },
  {
   "cell_type": "code",
   "execution_count": 128,
   "id": "6ac4a330",
   "metadata": {},
   "outputs": [],
   "source": [
    "gugun_list = response2.json()"
   ]
  },
  {
   "cell_type": "code",
   "execution_count": 55,
   "id": "7354ae7c",
   "metadata": {},
   "outputs": [
    {
     "name": "stdout",
     "output_type": "stream",
     "text": [
      "{'0101': '강남구', '0120': '강동구', '0102': '강북구', '0103': '강서구', '0104': '관악구', '0105': '광진구', '0121': '구로구', '0106': '금천구', '0107': '노원구', '0108': '도봉구', '0122': '동대문구', '0109': '동작구', '0110': '마포구', '0111': '서대문구', '0112': '서초구', '0123': '성동구', '0113': '성북구', '0114': '송파구', '0115': '양천구', '0116': '영등포구', '0124': '용산구', '0117': '은평구', '0118': '종로구', '0119': '중구', '0125': '중랑구'}\n"
     ]
    }
   ],
   "source": [
    "gugunList = {}\n",
    "for gugun in gugun_list['list']:\n",
    "    gugunList[gugun['gugun_cd']] = gugun['gugun_nm']\n",
    "    \n",
    "print(gugunList)"
   ]
  },
  {
   "cell_type": "markdown",
   "id": "58b9a280",
   "metadata": {},
   "source": [
    "# 매장 정보 가져오기"
   ]
  },
  {
   "cell_type": "code",
   "execution_count": null,
   "id": "63cd99b2",
   "metadata": {},
   "outputs": [],
   "source": [
    "# 매장 정보 필수 데이터들\n",
    "\n",
    "# ins_lat: 37.4923615\n",
    "# ins_lng: 127.02928809999999\n",
    "# p_sido_cd: 01\n",
    "# p_gugun_cd: 0101\n",
    "# in_biz_cd: \n",
    "# iend: 100\n",
    "# set_date: "
   ]
  },
  {
   "cell_type": "code",
   "execution_count": 58,
   "id": "6757fa74",
   "metadata": {},
   "outputs": [],
   "source": [
    "url3 = \"https://www.starbucks.co.kr/store/getStore.do?r=5O9C3DCLNN\""
   ]
  },
  {
   "cell_type": "code",
   "execution_count": 68,
   "id": "e97bdf54",
   "metadata": {},
   "outputs": [],
   "source": [
    "response3 = requests.post(url3, data= {\n",
    "    \n",
    "    'ins_lat': '',         # 위도\n",
    "    'ins_lng': '',         # 경도\n",
    "    'p_sido_cd': '',       # 시도 코드\n",
    "    'p_gugun_cd': '',      # 구군 코드\n",
    "    'in_biz_cd': '',  \n",
    "    'iend': 2000,          # 서버에서 가져오는 최대 매장의 갯수\n",
    "    'set_date': ''         \n",
    "    # in_biz_cd, set_date 를 서버에 넘겨주지 않으면 데이터를 얻어오지 못함.\n",
    "})"
   ]
  },
  {
   "cell_type": "code",
   "execution_count": 129,
   "id": "6f3effd0",
   "metadata": {},
   "outputs": [],
   "source": [
    "store_list = response3.json()"
   ]
  },
  {
   "cell_type": "code",
   "execution_count": 72,
   "id": "5362b0e3",
   "metadata": {},
   "outputs": [],
   "source": [
    "count = 0\n",
    "store_name = []\n",
    "store_address = []\n",
    "store_lat = []\n",
    "store_lot = []\n",
    "# 매장 리스트 가져오기\n",
    "for store in store_list['list']:\n",
    "    count += 1\n",
    "    \n",
    "    store_name.append(store[\"s_name\"])\n",
    "    store_address.append(store[\"doro_address\"])\n",
    "    store_lat.append(store[\"lat\"])\n",
    "    store_lot.append(store[\"lot\"])\n",
    "    \n",
    "    \n",
    "#     print(f'{store[\"s_name\"]} : {store[\"doro_address\"]}({store[\"lat\"]}, {store[\"lot\"]})')\n",
    "    \n",
    "    "
   ]
  },
  {
   "cell_type": "code",
   "execution_count": 131,
   "id": "4911d1d9",
   "metadata": {},
   "outputs": [],
   "source": [
    "# pd.concat([store_name, store_address, store_lat, store_lot])"
   ]
  },
  {
   "cell_type": "code",
   "execution_count": 119,
   "id": "52305d17",
   "metadata": {},
   "outputs": [
    {
     "data": {
      "text/html": [
       "<div>\n",
       "<style scoped>\n",
       "    .dataframe tbody tr th:only-of-type {\n",
       "        vertical-align: middle;\n",
       "    }\n",
       "\n",
       "    .dataframe tbody tr th {\n",
       "        vertical-align: top;\n",
       "    }\n",
       "\n",
       "    .dataframe thead th {\n",
       "        text-align: right;\n",
       "    }\n",
       "</style>\n",
       "<table border=\"1\" class=\"dataframe\">\n",
       "  <thead>\n",
       "    <tr style=\"text-align: right;\">\n",
       "      <th></th>\n",
       "      <th>지점명</th>\n",
       "      <th>주소</th>\n",
       "      <th>위도</th>\n",
       "      <th>경도</th>\n",
       "    </tr>\n",
       "  </thead>\n",
       "  <tbody>\n",
       "    <tr>\n",
       "      <th>0</th>\n",
       "      <td>판교역</td>\n",
       "      <td>경기도 성남시 분당구 대왕판교로606번길 58, 판교푸르지오월드마크 1층 (삼평동)</td>\n",
       "      <td>37.395911</td>\n",
       "      <td>127.113233</td>\n",
       "    </tr>\n",
       "    <tr>\n",
       "      <th>1</th>\n",
       "      <td>수서</td>\n",
       "      <td>서울특별시 강남구 밤고개로1길 10 (수서동) 수서현대벤쳐빌 지하2층</td>\n",
       "      <td>37.48801132</td>\n",
       "      <td>127.1017508</td>\n",
       "    </tr>\n",
       "    <tr>\n",
       "      <th>2</th>\n",
       "      <td>송파마천사거리DT</td>\n",
       "      <td>서울특별시 송파구 거마로 78 (마천동)</td>\n",
       "      <td>37.499829</td>\n",
       "      <td>127.147672</td>\n",
       "    </tr>\n",
       "    <tr>\n",
       "      <th>3</th>\n",
       "      <td>그랜드조선 부산</td>\n",
       "      <td>부산광역시 해운대구 해운대해변로 292 (중동)</td>\n",
       "      <td>35.1600338</td>\n",
       "      <td>129.1630512</td>\n",
       "    </tr>\n",
       "    <tr>\n",
       "      <th>4</th>\n",
       "      <td>서울웨이브아트센터</td>\n",
       "      <td>서울특별시 서초구 잠원로 145-35 (잠원동)</td>\n",
       "      <td>37.518807</td>\n",
       "      <td>127.007040</td>\n",
       "    </tr>\n",
       "    <tr>\n",
       "      <th>...</th>\n",
       "      <td>...</td>\n",
       "      <td>...</td>\n",
       "      <td>...</td>\n",
       "      <td>...</td>\n",
       "    </tr>\n",
       "    <tr>\n",
       "      <th>1560</th>\n",
       "      <td>수원경수인계DT</td>\n",
       "      <td>경기도 수원시 팔달구 경수대로 499 (인계동)</td>\n",
       "      <td>37.270568</td>\n",
       "      <td>127.027566</td>\n",
       "    </tr>\n",
       "    <tr>\n",
       "      <th>1561</th>\n",
       "      <td>호계지식산업센터</td>\n",
       "      <td>경기도 안양시 동안구 엘에스로 122 데시앙플렉스 118~123호</td>\n",
       "      <td>37.372351</td>\n",
       "      <td>126.948665</td>\n",
       "    </tr>\n",
       "    <tr>\n",
       "      <th>1562</th>\n",
       "      <td>안동이마트</td>\n",
       "      <td>경상북도 안동시 옥동1길 2 (옥동)</td>\n",
       "      <td>36.558505</td>\n",
       "      <td>128.699308</td>\n",
       "    </tr>\n",
       "    <tr>\n",
       "      <th>1563</th>\n",
       "      <td>월계역</td>\n",
       "      <td>서울특별시 노원구 초안산로2라길26 월계동(104,105,106호)</td>\n",
       "      <td>37.6295</td>\n",
       "      <td>127.0574</td>\n",
       "    </tr>\n",
       "    <tr>\n",
       "      <th>1564</th>\n",
       "      <td>광교갤러리아9F</td>\n",
       "      <td>경기도 수원시 영통구 광교호수공원로 320 (하동)</td>\n",
       "      <td>37.2850653</td>\n",
       "      <td>127.0572660</td>\n",
       "    </tr>\n",
       "  </tbody>\n",
       "</table>\n",
       "<p>1565 rows × 4 columns</p>\n",
       "</div>"
      ],
      "text/plain": [
       "            지점명                                              주소           위도  \\\n",
       "0           판교역  경기도 성남시 분당구 대왕판교로606번길 58, 판교푸르지오월드마크 1층 (삼평동)    37.395911   \n",
       "1            수서          서울특별시 강남구 밤고개로1길 10 (수서동) 수서현대벤쳐빌 지하2층  37.48801132   \n",
       "2     송파마천사거리DT                          서울특별시 송파구 거마로 78 (마천동)    37.499829   \n",
       "3      그랜드조선 부산                      부산광역시 해운대구 해운대해변로 292 (중동)   35.1600338   \n",
       "4     서울웨이브아트센터                      서울특별시 서초구 잠원로 145-35 (잠원동)    37.518807   \n",
       "...         ...                                             ...          ...   \n",
       "1560   수원경수인계DT                      경기도 수원시 팔달구 경수대로 499 (인계동)    37.270568   \n",
       "1561   호계지식산업센터            경기도 안양시 동안구 엘에스로 122 데시앙플렉스 118~123호    37.372351   \n",
       "1562      안동이마트                            경상북도 안동시 옥동1길 2 (옥동)    36.558505   \n",
       "1563        월계역           서울특별시 노원구 초안산로2라길26 월계동(104,105,106호)      37.6295   \n",
       "1564   광교갤러리아9F                    경기도 수원시 영통구 광교호수공원로 320 (하동)   37.2850653   \n",
       "\n",
       "               경도  \n",
       "0      127.113233  \n",
       "1     127.1017508  \n",
       "2      127.147672  \n",
       "3     129.1630512  \n",
       "4      127.007040  \n",
       "...           ...  \n",
       "1560   127.027566  \n",
       "1561   126.948665  \n",
       "1562   128.699308  \n",
       "1563     127.0574  \n",
       "1564  127.0572660  \n",
       "\n",
       "[1565 rows x 4 columns]"
      ]
     },
     "execution_count": 119,
     "metadata": {},
     "output_type": "execute_result"
    }
   ],
   "source": [
    "df = pd.DataFrame([store_name, store_address, store_lat, store_lot], index=[\"지점명\", \"주소\", \"위도\", \"경도\"])  #\n",
    "df = df.T\n",
    "df"
   ]
  },
  {
   "cell_type": "code",
   "execution_count": 121,
   "id": "546dc903",
   "metadata": {},
   "outputs": [
    {
     "data": {
      "text/html": [
       "<div>\n",
       "<style scoped>\n",
       "    .dataframe tbody tr th:only-of-type {\n",
       "        vertical-align: middle;\n",
       "    }\n",
       "\n",
       "    .dataframe tbody tr th {\n",
       "        vertical-align: top;\n",
       "    }\n",
       "\n",
       "    .dataframe thead th {\n",
       "        text-align: right;\n",
       "    }\n",
       "</style>\n",
       "<table border=\"1\" class=\"dataframe\">\n",
       "  <thead>\n",
       "    <tr style=\"text-align: right;\">\n",
       "      <th></th>\n",
       "      <th>지점명</th>\n",
       "      <th>주소</th>\n",
       "      <th>위도</th>\n",
       "      <th>경도</th>\n",
       "      <th>지점</th>\n",
       "    </tr>\n",
       "  </thead>\n",
       "  <tbody>\n",
       "    <tr>\n",
       "      <th>0</th>\n",
       "      <td>판교역</td>\n",
       "      <td>경기도 성남시 분당구 대왕판교로606번길 58, 판교푸르지오월드마크 1층 (삼평동)</td>\n",
       "      <td>37.395911</td>\n",
       "      <td>127.113233</td>\n",
       "      <td>판교역</td>\n",
       "    </tr>\n",
       "  </tbody>\n",
       "</table>\n",
       "</div>"
      ],
      "text/plain": [
       "   지점명                                              주소         위도          경도  \\\n",
       "0  판교역  경기도 성남시 분당구 대왕판교로606번길 58, 판교푸르지오월드마크 1층 (삼평동)  37.395911  127.113233   \n",
       "\n",
       "    지점  \n",
       "0  판교역  "
      ]
     },
     "execution_count": 121,
     "metadata": {},
     "output_type": "execute_result"
    }
   ],
   "source": [
    "df[\"지점\"] = df[\"지점명\"]\n",
    "df.head(1)"
   ]
  },
  {
   "cell_type": "code",
   "execution_count": 122,
   "id": "7c5b8029",
   "metadata": {},
   "outputs": [],
   "source": [
    "df['지점'] = df['지점'] + \"점\""
   ]
  },
  {
   "cell_type": "code",
   "execution_count": 123,
   "id": "132800b5",
   "metadata": {},
   "outputs": [
    {
     "data": {
      "text/plain": [
       "Index(['지점명', '주소', '위도', '경도', '지점'], dtype='object')"
      ]
     },
     "execution_count": 123,
     "metadata": {},
     "output_type": "execute_result"
    }
   ],
   "source": [
    "df.columns"
   ]
  },
  {
   "cell_type": "code",
   "execution_count": 124,
   "id": "140161d8",
   "metadata": {},
   "outputs": [],
   "source": [
    "cols = ['지점', '주소', '위도', '경도']"
   ]
  },
  {
   "cell_type": "code",
   "execution_count": 125,
   "id": "4e0cd699",
   "metadata": {},
   "outputs": [
    {
     "data": {
      "text/html": [
       "<div>\n",
       "<style scoped>\n",
       "    .dataframe tbody tr th:only-of-type {\n",
       "        vertical-align: middle;\n",
       "    }\n",
       "\n",
       "    .dataframe tbody tr th {\n",
       "        vertical-align: top;\n",
       "    }\n",
       "\n",
       "    .dataframe thead th {\n",
       "        text-align: right;\n",
       "    }\n",
       "</style>\n",
       "<table border=\"1\" class=\"dataframe\">\n",
       "  <thead>\n",
       "    <tr style=\"text-align: right;\">\n",
       "      <th></th>\n",
       "      <th>지점</th>\n",
       "      <th>주소</th>\n",
       "      <th>위도</th>\n",
       "      <th>경도</th>\n",
       "    </tr>\n",
       "  </thead>\n",
       "  <tbody>\n",
       "    <tr>\n",
       "      <th>0</th>\n",
       "      <td>판교역점</td>\n",
       "      <td>경기도 성남시 분당구 대왕판교로606번길 58, 판교푸르지오월드마크 1층 (삼평동)</td>\n",
       "      <td>37.395911</td>\n",
       "      <td>127.113233</td>\n",
       "    </tr>\n",
       "    <tr>\n",
       "      <th>1</th>\n",
       "      <td>수서점</td>\n",
       "      <td>서울특별시 강남구 밤고개로1길 10 (수서동) 수서현대벤쳐빌 지하2층</td>\n",
       "      <td>37.48801132</td>\n",
       "      <td>127.1017508</td>\n",
       "    </tr>\n",
       "    <tr>\n",
       "      <th>2</th>\n",
       "      <td>송파마천사거리DT점</td>\n",
       "      <td>서울특별시 송파구 거마로 78 (마천동)</td>\n",
       "      <td>37.499829</td>\n",
       "      <td>127.147672</td>\n",
       "    </tr>\n",
       "    <tr>\n",
       "      <th>3</th>\n",
       "      <td>그랜드조선 부산점</td>\n",
       "      <td>부산광역시 해운대구 해운대해변로 292 (중동)</td>\n",
       "      <td>35.1600338</td>\n",
       "      <td>129.1630512</td>\n",
       "    </tr>\n",
       "    <tr>\n",
       "      <th>4</th>\n",
       "      <td>서울웨이브아트센터점</td>\n",
       "      <td>서울특별시 서초구 잠원로 145-35 (잠원동)</td>\n",
       "      <td>37.518807</td>\n",
       "      <td>127.007040</td>\n",
       "    </tr>\n",
       "    <tr>\n",
       "      <th>...</th>\n",
       "      <td>...</td>\n",
       "      <td>...</td>\n",
       "      <td>...</td>\n",
       "      <td>...</td>\n",
       "    </tr>\n",
       "    <tr>\n",
       "      <th>1560</th>\n",
       "      <td>수원경수인계DT점</td>\n",
       "      <td>경기도 수원시 팔달구 경수대로 499 (인계동)</td>\n",
       "      <td>37.270568</td>\n",
       "      <td>127.027566</td>\n",
       "    </tr>\n",
       "    <tr>\n",
       "      <th>1561</th>\n",
       "      <td>호계지식산업센터점</td>\n",
       "      <td>경기도 안양시 동안구 엘에스로 122 데시앙플렉스 118~123호</td>\n",
       "      <td>37.372351</td>\n",
       "      <td>126.948665</td>\n",
       "    </tr>\n",
       "    <tr>\n",
       "      <th>1562</th>\n",
       "      <td>안동이마트점</td>\n",
       "      <td>경상북도 안동시 옥동1길 2 (옥동)</td>\n",
       "      <td>36.558505</td>\n",
       "      <td>128.699308</td>\n",
       "    </tr>\n",
       "    <tr>\n",
       "      <th>1563</th>\n",
       "      <td>월계역점</td>\n",
       "      <td>서울특별시 노원구 초안산로2라길26 월계동(104,105,106호)</td>\n",
       "      <td>37.6295</td>\n",
       "      <td>127.0574</td>\n",
       "    </tr>\n",
       "    <tr>\n",
       "      <th>1564</th>\n",
       "      <td>광교갤러리아9F점</td>\n",
       "      <td>경기도 수원시 영통구 광교호수공원로 320 (하동)</td>\n",
       "      <td>37.2850653</td>\n",
       "      <td>127.0572660</td>\n",
       "    </tr>\n",
       "  </tbody>\n",
       "</table>\n",
       "<p>1565 rows × 4 columns</p>\n",
       "</div>"
      ],
      "text/plain": [
       "              지점                                              주소           위도  \\\n",
       "0           판교역점  경기도 성남시 분당구 대왕판교로606번길 58, 판교푸르지오월드마크 1층 (삼평동)    37.395911   \n",
       "1            수서점          서울특별시 강남구 밤고개로1길 10 (수서동) 수서현대벤쳐빌 지하2층  37.48801132   \n",
       "2     송파마천사거리DT점                          서울특별시 송파구 거마로 78 (마천동)    37.499829   \n",
       "3      그랜드조선 부산점                      부산광역시 해운대구 해운대해변로 292 (중동)   35.1600338   \n",
       "4     서울웨이브아트센터점                      서울특별시 서초구 잠원로 145-35 (잠원동)    37.518807   \n",
       "...          ...                                             ...          ...   \n",
       "1560   수원경수인계DT점                      경기도 수원시 팔달구 경수대로 499 (인계동)    37.270568   \n",
       "1561   호계지식산업센터점            경기도 안양시 동안구 엘에스로 122 데시앙플렉스 118~123호    37.372351   \n",
       "1562      안동이마트점                            경상북도 안동시 옥동1길 2 (옥동)    36.558505   \n",
       "1563        월계역점           서울특별시 노원구 초안산로2라길26 월계동(104,105,106호)      37.6295   \n",
       "1564   광교갤러리아9F점                    경기도 수원시 영통구 광교호수공원로 320 (하동)   37.2850653   \n",
       "\n",
       "               경도  \n",
       "0      127.113233  \n",
       "1     127.1017508  \n",
       "2      127.147672  \n",
       "3     129.1630512  \n",
       "4      127.007040  \n",
       "...           ...  \n",
       "1560   127.027566  \n",
       "1561   126.948665  \n",
       "1562   128.699308  \n",
       "1563     127.0574  \n",
       "1564  127.0572660  \n",
       "\n",
       "[1565 rows x 4 columns]"
      ]
     },
     "execution_count": 125,
     "metadata": {},
     "output_type": "execute_result"
    }
   ],
   "source": [
    "df = df[cols]\n",
    "df"
   ]
  },
  {
   "cell_type": "code",
   "execution_count": null,
   "id": "e452912e",
   "metadata": {},
   "outputs": [],
   "source": []
  },
  {
   "cell_type": "code",
   "execution_count": null,
   "id": "b68e9f25",
   "metadata": {},
   "outputs": [],
   "source": []
  },
  {
   "cell_type": "code",
   "execution_count": null,
   "id": "e49abc52",
   "metadata": {},
   "outputs": [],
   "source": []
  },
  {
   "cell_type": "code",
   "execution_count": null,
   "id": "4f750cb5",
   "metadata": {},
   "outputs": [],
   "source": []
  },
  {
   "cell_type": "code",
   "execution_count": null,
   "id": "bc3c0b28",
   "metadata": {},
   "outputs": [],
   "source": []
  },
  {
   "cell_type": "code",
   "execution_count": null,
   "id": "9c2bdf4d",
   "metadata": {},
   "outputs": [],
   "source": []
  },
  {
   "cell_type": "code",
   "execution_count": null,
   "id": "c39891ae",
   "metadata": {},
   "outputs": [],
   "source": []
  }
 ],
 "metadata": {
  "kernelspec": {
   "display_name": "Python 3",
   "language": "python",
   "name": "python3"
  },
  "language_info": {
   "codemirror_mode": {
    "name": "ipython",
    "version": 3
   },
   "file_extension": ".py",
   "mimetype": "text/x-python",
   "name": "python",
   "nbconvert_exporter": "python",
   "pygments_lexer": "ipython3",
   "version": "3.8.8"
  },
  "toc": {
   "base_numbering": 1,
   "nav_menu": {},
   "number_sections": false,
   "sideBar": true,
   "skip_h1_title": false,
   "title_cell": "Table of Contents",
   "title_sidebar": "Contents",
   "toc_cell": false,
   "toc_position": {
    "height": "calc(100% - 180px)",
    "left": "10px",
    "top": "150px",
    "width": "341.333px"
   },
   "toc_section_display": true,
   "toc_window_display": false
  }
 },
 "nbformat": 4,
 "nbformat_minor": 5
}
